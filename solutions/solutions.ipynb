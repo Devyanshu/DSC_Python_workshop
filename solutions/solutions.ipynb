{
 "cells": [
  {
   "cell_type": "markdown",
   "metadata": {},
   "source": [
    "### Find sum of all digits in a number, preferably in one line."
   ]
  },
  {
   "cell_type": "code",
   "execution_count": 5,
   "metadata": {},
   "outputs": [
    {
     "data": {
      "text/plain": [
       "15"
      ]
     },
     "execution_count": 5,
     "metadata": {},
     "output_type": "execute_result"
    }
   ],
   "source": [
    "number = 12345\n",
    "sum([int(i) for i in str(number)])"
   ]
  },
  {
   "cell_type": "markdown",
   "metadata": {},
   "source": [
    "### Check if the given number is Armstrong, preferably in one line."
   ]
  },
  {
   "cell_type": "code",
   "execution_count": 7,
   "metadata": {},
   "outputs": [
    {
     "data": {
      "text/plain": [
       "False"
      ]
     },
     "execution_count": 7,
     "metadata": {},
     "output_type": "execute_result"
    }
   ],
   "source": [
    "number = 154\n",
    "\n",
    "number == sum(pow(int(i), len(str(number))) for i in str(number))"
   ]
  },
  {
   "cell_type": "markdown",
   "metadata": {},
   "source": [
    "### Check if the given number is perfect square, without using any built in function."
   ]
  },
  {
   "cell_type": "code",
   "execution_count": 13,
   "metadata": {},
   "outputs": [
    {
     "data": {
      "text/plain": [
       "True"
      ]
     },
     "execution_count": 13,
     "metadata": {},
     "output_type": "execute_result"
    }
   ],
   "source": [
    "number = 36\n",
    "\n",
    "number ** 0.5 == (number**0.5)//1"
   ]
  },
  {
   "cell_type": "markdown",
   "metadata": {},
   "source": [
    "### Write your own implementation of map()"
   ]
  },
  {
   "cell_type": "code",
   "execution_count": 14,
   "metadata": {},
   "outputs": [
    {
     "data": {
      "text/plain": [
       "[1, 3, 5]"
      ]
     },
     "execution_count": 14,
     "metadata": {},
     "output_type": "execute_result"
    }
   ],
   "source": [
    "def my_map(func, iterable):\n",
    "    output = []\n",
    "    for i in iterable:\n",
    "        output.append(func(i))\n",
    "    return output\n",
    "\n",
    "my_map(len, ['1', '123', '16519'])"
   ]
  },
  {
   "cell_type": "markdown",
   "metadata": {},
   "source": [
    "### Write your own implementation of reduce()"
   ]
  },
  {
   "cell_type": "code",
   "execution_count": 15,
   "metadata": {},
   "outputs": [
    {
     "data": {
      "text/plain": [
       "21"
      ]
     },
     "execution_count": 15,
     "metadata": {},
     "output_type": "execute_result"
    }
   ],
   "source": [
    "def my_reduce(func, iterable):\n",
    "    result = func(iterable[0], iterable[1])\n",
    "    for i in range(2, len(iterable)):\n",
    "        result = func(result, iterable[i])\n",
    "    return result\n",
    "\n",
    "my_reduce(lambda x, y: x+y, [1, 2, 3, 4, 5, 6])"
   ]
  },
  {
   "cell_type": "markdown",
   "metadata": {},
   "source": [
    "### Write your own implementation of filter()"
   ]
  },
  {
   "cell_type": "code",
   "execution_count": 17,
   "metadata": {},
   "outputs": [
    {
     "data": {
      "text/plain": [
       "[3, 18, 72]"
      ]
     },
     "execution_count": 17,
     "metadata": {},
     "output_type": "execute_result"
    }
   ],
   "source": [
    "def my_filter(func, iterable):\n",
    "    output = []\n",
    "    for i in iterable:\n",
    "        if func(i):\n",
    "            output.append(i)\n",
    "    return output\n",
    "\n",
    "my_filter(lambda x: x%3 == 0, [11, 2, 5, 7, 3, 18, 72])"
   ]
  },
  {
   "cell_type": "markdown",
   "metadata": {},
   "source": [
    "### Write your own implementation of zip()"
   ]
  },
  {
   "cell_type": "code",
   "execution_count": 20,
   "metadata": {},
   "outputs": [
    {
     "data": {
      "text/plain": [
       "[(1, 'a'), (2, 'b'), (3, 'c')]"
      ]
     },
     "execution_count": 20,
     "metadata": {},
     "output_type": "execute_result"
    }
   ],
   "source": [
    "def my_zip(iterable1, iterable2):\n",
    "    output = []\n",
    "    min_length = min(len(iterable1), len(iterable2))\n",
    "    for i in range(min_length):\n",
    "        output.append((iterable1[i], iterable2[i]))\n",
    "    return output\n",
    "\n",
    "my_zip([1, 2, 3, 4, 5], ['a', 'b', 'c'])"
   ]
  },
  {
   "cell_type": "markdown",
   "metadata": {},
   "source": [
    "### Write your own implementation of enumerate()"
   ]
  },
  {
   "cell_type": "code",
   "execution_count": 22,
   "metadata": {},
   "outputs": [
    {
     "data": {
      "text/plain": [
       "[(0, 'a'), (1, 'b'), (2, 'c'), (3, 'd')]"
      ]
     },
     "execution_count": 22,
     "metadata": {},
     "output_type": "execute_result"
    }
   ],
   "source": [
    "def my_enumerate(iterable, start=0):\n",
    "    output = []\n",
    "    counter = start\n",
    "    for i in iterable:\n",
    "        output.append((counter, i))\n",
    "        counter += 1\n",
    "    return output\n",
    "\n",
    "my_enumerate(['a', 'b', 'c', 'd'])"
   ]
  },
  {
   "cell_type": "markdown",
   "metadata": {},
   "source": [
    "### Write your own implementation of range()"
   ]
  },
  {
   "cell_type": "code",
   "execution_count": 1,
   "metadata": {},
   "outputs": [
    {
     "data": {
      "text/plain": [
       "[1, 3, 5, 7, 9]"
      ]
     },
     "execution_count": 1,
     "metadata": {},
     "output_type": "execute_result"
    }
   ],
   "source": [
    "def my_range(start, end, step=1):\n",
    "    output = []\n",
    "    while start<end:\n",
    "        output.append(start)\n",
    "        start += step\n",
    "    return output\n",
    "\n",
    "my_range(1, 10, 2)"
   ]
  },
  {
   "cell_type": "markdown",
   "metadata": {},
   "source": [
    "### Write a generator that gives first n Fibonacci number."
   ]
  },
  {
   "cell_type": "code",
   "execution_count": 6,
   "metadata": {},
   "outputs": [
    {
     "data": {
      "text/plain": [
       "[0, 1, 1, 2, 3, 5, 8, 13, 21, 34, 55, 89, 144, 233, 377, 610]"
      ]
     },
     "execution_count": 6,
     "metadata": {},
     "output_type": "execute_result"
    }
   ],
   "source": [
    "def n_fibo(n):\n",
    "    a,b = 0,1\n",
    "    if n==1:\n",
    "        return a\n",
    "    elif n==2:\n",
    "        return b\n",
    "    else:\n",
    "        yield a\n",
    "        yield b\n",
    "        n = n - 2\n",
    "        while n:\n",
    "            a, b = b, a+b\n",
    "            n -= 1\n",
    "            yield b\n",
    "            \n",
    "[i for i in n_fibo(16)]"
   ]
  },
  {
   "cell_type": "markdown",
   "metadata": {},
   "source": [
    "### Implement sets using dictionaries."
   ]
  },
  {
   "cell_type": "code",
   "execution_count": 7,
   "metadata": {},
   "outputs": [
    {
     "data": {
      "text/plain": [
       "dict_keys([1, 3, 8, 4, 9])"
      ]
     },
     "execution_count": 7,
     "metadata": {},
     "output_type": "execute_result"
    }
   ],
   "source": [
    "numbers = [1, 3, 1, 8, 4, 4, 9, 3]\n",
    "\n",
    "dict_as_set = { i:None for i in numbers}\n",
    "\n",
    "dict_as_set.keys()"
   ]
  },
  {
   "cell_type": "markdown",
   "metadata": {},
   "source": [
    "### Write a decorator to print the time taken by a function."
   ]
  },
  {
   "cell_type": "code",
   "execution_count": 10,
   "metadata": {},
   "outputs": [
    {
     "name": "stdout",
     "output_type": "stream",
     "text": [
      "0.008636929000000126\n"
     ]
    }
   ],
   "source": [
    "from time import process_time\n",
    "\n",
    "def my_decorator(func):\n",
    "    start = process_time()\n",
    "    func()\n",
    "    print(process_time() - start)\n",
    "   \n",
    "@my_decorator\n",
    "def demo():\n",
    "    for i in range(10**5):\n",
    "        pass\n",
    "    "
   ]
  }
 ],
 "metadata": {
  "kernelspec": {
   "display_name": "Python 3",
   "language": "python",
   "name": "python3"
  },
  "language_info": {
   "codemirror_mode": {
    "name": "ipython",
    "version": 3
   },
   "file_extension": ".py",
   "mimetype": "text/x-python",
   "name": "python",
   "nbconvert_exporter": "python",
   "pygments_lexer": "ipython3",
   "version": "3.6.9"
  }
 },
 "nbformat": 4,
 "nbformat_minor": 2
}
