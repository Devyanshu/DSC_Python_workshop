{
 "cells": [
  {
   "cell_type": "markdown",
   "metadata": {},
   "source": [
    "# Python - Beginner to Advance"
   ]
  },
  {
   "cell_type": "code",
   "execution_count": null,
   "metadata": {},
   "outputs": [],
   "source": [
    "num = 5\n",
    "word = \"hello\"\n",
    "decimal = 5.3\n",
    "lst = [1, 2, 3]"
   ]
  },
  {
   "cell_type": "code",
   "execution_count": null,
   "metadata": {},
   "outputs": [],
   "source": [
    "print(num)\n",
    "print('world')"
   ]
  },
  {
   "cell_type": "code",
   "execution_count": null,
   "metadata": {},
   "outputs": [],
   "source": [
    "print('hello', 'world', sep='\\t')\n"
   ]
  },
  {
   "cell_type": "code",
   "execution_count": null,
   "metadata": {},
   "outputs": [],
   "source": [
    "print('hello', end = \"\\t\")\n",
    "print('world')"
   ]
  },
  {
   "cell_type": "markdown",
   "metadata": {},
   "source": [
    "## Loops"
   ]
  },
  {
   "cell_type": "markdown",
   "metadata": {},
   "source": [
    "### for "
   ]
  },
  {
   "cell_type": "code",
   "execution_count": null,
   "metadata": {},
   "outputs": [],
   "source": [
    "for i in range(5):\n",
    "    print(i, end=\" \")"
   ]
  },
  {
   "cell_type": "code",
   "execution_count": null,
   "metadata": {},
   "outputs": [],
   "source": [
    "for i in range(0, 51, 10):\n",
    "    print(i, end=\"  \")"
   ]
  },
  {
   "cell_type": "code",
   "execution_count": null,
   "metadata": {},
   "outputs": [],
   "source": [
    "lst = ['a', 'b', 'c', 'd']\n",
    "for i in lst:\n",
    "    print(i, end=\"  \")"
   ]
  },
  {
   "cell_type": "markdown",
   "metadata": {},
   "source": [
    "## while"
   ]
  },
  {
   "cell_type": "code",
   "execution_count": null,
   "metadata": {},
   "outputs": [],
   "source": [
    "j = 0\n",
    "while j < 11:\n",
    "    print(j, end='  ')\n",
    "    j += 1"
   ]
  },
  {
   "cell_type": "markdown",
   "metadata": {},
   "source": [
    "## Function"
   ]
  },
  {
   "cell_type": "code",
   "execution_count": null,
   "metadata": {},
   "outputs": [],
   "source": [
    "def isprime(x):\n",
    "    for i in range(2,x):\n",
    "        if x%i==0:\n",
    "            return False\n",
    "    return True\n",
    "\n",
    "isprime(61)"
   ]
  },
  {
   "cell_type": "code",
   "execution_count": null,
   "metadata": {},
   "outputs": [],
   "source": [
    "new_func = isprime\n",
    "new_func(61)"
   ]
  },
  {
   "cell_type": "code",
   "execution_count": null,
   "metadata": {},
   "outputs": [],
   "source": [
    "def show_det(func):\n",
    "    print('Name of the given function is',func.__name__)\n",
    "show_det(isprime)"
   ]
  },
  {
   "cell_type": "markdown",
   "metadata": {},
   "source": [
    "## Lambda"
   ]
  },
  {
   "cell_type": "code",
   "execution_count": null,
   "metadata": {},
   "outputs": [],
   "source": [
    "SQ = lambda x : 7**2\n",
    "SQ(5)"
   ]
  },
  {
   "cell_type": "markdown",
   "metadata": {},
   "source": [
    "## Map"
   ]
  },
  {
   "cell_type": "code",
   "execution_count": null,
   "metadata": {},
   "outputs": [],
   "source": [
    "lst = ['1', '2', '3', '4']\n",
    "print(list(map(int, lst)))\n",
    "\n",
    "words = ['one', 'two', 'three', 'four']\n",
    "print(list(map(len, words)))"
   ]
  },
  {
   "cell_type": "markdown",
   "metadata": {},
   "source": [
    "## Filter"
   ]
  },
  {
   "cell_type": "code",
   "execution_count": null,
   "metadata": {},
   "outputs": [],
   "source": [
    "lst = [1, 3, 5, 51, 18, 47, 55 ,45]\n",
    "filtered = list(filter(lambda x:x%3==0, lst))\n",
    "print(filtered)"
   ]
  },
  {
   "cell_type": "markdown",
   "metadata": {},
   "source": [
    "### Write a function that replicates the working of filter"
   ]
  },
  {
   "cell_type": "markdown",
   "metadata": {},
   "source": [
    "### Zip"
   ]
  },
  {
   "cell_type": "code",
   "execution_count": null,
   "metadata": {},
   "outputs": [],
   "source": [
    "lst_1 = [1, 2, 2, 3, 5]\n",
    "lst_2 = [1, 5, 3]\n",
    "\n",
    "for i, j in zip(lst_1, lst_2):\n",
    "    print(i, j)"
   ]
  },
  {
   "cell_type": "markdown",
   "metadata": {},
   "source": [
    "### Enumerate"
   ]
  },
  {
   "cell_type": "code",
   "execution_count": null,
   "metadata": {},
   "outputs": [],
   "source": [
    "for i, val in enumerate(lst_1):\n",
    "    print('index = ',i, ', value  = ',val)"
   ]
  },
  {
   "cell_type": "markdown",
   "metadata": {},
   "source": [
    "## Lists"
   ]
  },
  {
   "cell_type": "code",
   "execution_count": null,
   "metadata": {},
   "outputs": [],
   "source": [
    "lst_og = [1, 2, 3, 4, 5, 6]\n",
    "\n",
    "lst_rng = list(range(1,7))\n",
    "\n",
    "lst_lc = [i for i in range(1,7)]\n",
    "\n",
    "print(lst_og, lst_rng, lst_lc, sep=\"\\n\")"
   ]
  },
  {
   "cell_type": "code",
   "execution_count": null,
   "metadata": {},
   "outputs": [],
   "source": [
    "ls_lc = [i for i in range(6)]\n",
    "\n",
    "ls = []\n",
    "for i in range(6):\n",
    "    ls.append(i)\n",
    "\n",
    "print(ls, ls_lc, sep='\\n')"
   ]
  },
  {
   "cell_type": "code",
   "execution_count": null,
   "metadata": {},
   "outputs": [],
   "source": [
    "lst = [1, 'two', [3], (4), {'five':5}]\n",
    "lst"
   ]
  },
  {
   "cell_type": "code",
   "execution_count": null,
   "metadata": {},
   "outputs": [],
   "source": [
    "print(lst[0])\n",
    "print(lst[-1])\n",
    "print(lst[:])\n",
    "print(lst[:2])\n",
    "print(lst[::-1])"
   ]
  },
  {
   "cell_type": "code",
   "execution_count": null,
   "metadata": {},
   "outputs": [],
   "source": [
    "lst[1] = 'Two'\n",
    "print(lst)\n",
    "lst.insert(5, '6')\n",
    "print(lst)\n",
    "lst.remove(1)\n",
    "print(lst)\n",
    "lst.extend([10, 11])\n",
    "print(lst)"
   ]
  },
  {
   "cell_type": "markdown",
   "metadata": {},
   "source": [
    "## Tuples"
   ]
  },
  {
   "cell_type": "code",
   "execution_count": null,
   "metadata": {},
   "outputs": [],
   "source": [
    "tp_og = (1, 8, 7, 2)\n",
    "tp_ls = tuple([1, 2, 3, 4])\n",
    "tp_cm = 1, 2, 3, 4, 5\n",
    "\n",
    "print(tp_og, tp_ls, tp_cm, sep='\\n')"
   ]
  },
  {
   "cell_type": "code",
   "execution_count": null,
   "metadata": {},
   "outputs": [],
   "source": [
    "tp = (1, 'two', [3], (4), {'five':5})\n",
    "tp"
   ]
  },
  {
   "cell_type": "code",
   "execution_count": null,
   "metadata": {},
   "outputs": [],
   "source": [
    "print(tp[0])\n",
    "print(tp[-1])\n",
    "print(tp[:])\n",
    "print(tp[:2])\n",
    "print(tp[::-1])"
   ]
  },
  {
   "cell_type": "code",
   "execution_count": null,
   "metadata": {},
   "outputs": [],
   "source": [
    "tp[0] = 5"
   ]
  },
  {
   "cell_type": "code",
   "execution_count": null,
   "metadata": {},
   "outputs": [],
   "source": [
    "tp_wr = (50)\n",
    "print(type(tp_wr))\n",
    "tp_corr = (50,)\n",
    "print(type(tp_corr))"
   ]
  },
  {
   "cell_type": "markdown",
   "metadata": {},
   "source": [
    "## Sets"
   ]
  },
  {
   "cell_type": "code",
   "execution_count": null,
   "metadata": {},
   "outputs": [],
   "source": [
    "st = set([1, 2, 3, 4])\n",
    "st_rep = set([1, 1, 2, 3, 5, 5, 9, 14])\n",
    "st_sc = {i for i in [1, 2, 3, 4, 5, 1, 4, 5, 6]}\n",
    "\n",
    "print(st, st_rep, st_sc, sep='\\n')"
   ]
  },
  {
   "cell_type": "code",
   "execution_count": null,
   "metadata": {},
   "outputs": [],
   "source": [
    "st_wr = set(['set', '1', 1, [1, 2]])"
   ]
  },
  {
   "cell_type": "markdown",
   "metadata": {},
   "source": [
    "### Hashable v Unhashable\n",
    "- All the mutable objects are unhashable (list, dictionary, set)\n",
    "- All the immutable objects are hashable (int, float, complex, string, tuple, frozen set)"
   ]
  },
  {
   "cell_type": "code",
   "execution_count": null,
   "metadata": {
    "scrolled": true
   },
   "outputs": [],
   "source": [
    "print(tp_og.__hash__())\n",
    "print(hash(tp_og))"
   ]
  },
  {
   "cell_type": "code",
   "execution_count": null,
   "metadata": {},
   "outputs": [],
   "source": [
    "print(hash(st))"
   ]
  },
  {
   "cell_type": "code",
   "execution_count": null,
   "metadata": {},
   "outputs": [],
   "source": [
    "print(st.__hash__())"
   ]
  },
  {
   "cell_type": "code",
   "execution_count": null,
   "metadata": {
    "scrolled": true
   },
   "outputs": [],
   "source": [
    "st_a = set([1, 2, 3])\n",
    "st_b = set([3, 4, 5])\n",
    "\n",
    "print(st_a.union(st_b))\n",
    "print(st_a.intersection(st_b))\n",
    "print(st_a.difference(st_b))\n",
    "print(st_b.difference(st_a))"
   ]
  },
  {
   "cell_type": "markdown",
   "metadata": {},
   "source": [
    "### Searching in sets happens in O(1), because of the hashing. It is recommended to use 'in' with sets when the size of the list is too large or too many duplicate element exists."
   ]
  },
  {
   "cell_type": "markdown",
   "metadata": {},
   "source": [
    "## Dictionaries"
   ]
  },
  {
   "cell_type": "code",
   "execution_count": null,
   "metadata": {},
   "outputs": [],
   "source": [
    "dct_og = {'name': 'John', 'two': 2} \n",
    "dct_param = dict(name ='John', two=2)\n",
    "dct_tp = dict([('name', 'John'), ('two', 2)])\n",
    "dct_zip = dict(zip(['name', 'two'], ['John', 2]))\n",
    "\n",
    "print(dct_og, dct_param, dct_tp, dct_zip, sep='\\n')"
   ]
  },
  {
   "cell_type": "markdown",
   "metadata": {},
   "source": [
    "### The keys in the dictionary should be hashable."
   ]
  },
  {
   "cell_type": "code",
   "execution_count": null,
   "metadata": {},
   "outputs": [],
   "source": [
    "dct_wr = {[1, 2]:\"list\"}"
   ]
  },
  {
   "cell_type": "code",
   "execution_count": null,
   "metadata": {},
   "outputs": [],
   "source": [
    "dct_corr = {(1,2):'tuple', 'key':(1, 2, 3)}\n",
    "dct_corr"
   ]
  },
  {
   "cell_type": "code",
   "execution_count": null,
   "metadata": {},
   "outputs": [],
   "source": [
    "print(dct_corr.keys())\n",
    "print(dct_corr.values())"
   ]
  },
  {
   "cell_type": "code",
   "execution_count": null,
   "metadata": {
    "scrolled": true
   },
   "outputs": [],
   "source": [
    "scores = {'john':95, 'max':58}\n",
    "scores['david']"
   ]
  },
  {
   "cell_type": "code",
   "execution_count": null,
   "metadata": {
    "scrolled": true
   },
   "outputs": [],
   "source": [
    "dav_sc = scores.get('david', 0)\n",
    "dav_sc"
   ]
  },
  {
   "cell_type": "markdown",
   "metadata": {},
   "source": [
    "### Dictionary as switch case"
   ]
  },
  {
   "cell_type": "code",
   "execution_count": null,
   "metadata": {},
   "outputs": [],
   "source": [
    "def operation(a, b, op):\n",
    "    \n",
    "    dct = {\n",
    "        \n",
    "        '+' : a + b,\n",
    "        '-' : a - b,\n",
    "        '/' : a / b, \n",
    "        '*' : a * b\n",
    "    }\n",
    "    \n",
    "    return dct[op]\n",
    "\n",
    "operation(5,2,'*')"
   ]
  },
  {
   "cell_type": "markdown",
   "metadata": {},
   "source": [
    "### Implement switch case using dictionaries to print\n",
    "- 1 for Lists\n",
    "- 2 for Sets\n",
    "- 3 for Dictionaries"
   ]
  },
  {
   "cell_type": "markdown",
   "metadata": {},
   "source": [
    "## Calculating the time taken by the code"
   ]
  },
  {
   "cell_type": "markdown",
   "metadata": {},
   "source": [
    "### Using time.time()"
   ]
  },
  {
   "cell_type": "code",
   "execution_count": null,
   "metadata": {},
   "outputs": [],
   "source": [
    "import time\n",
    "start = time.time()\n",
    "\n",
    "# code here\n",
    "# time.sleep(1)\n",
    "\n",
    "print(time.time() - start)"
   ]
  },
  {
   "cell_type": "markdown",
   "metadata": {},
   "source": [
    "### Using time.process_time()"
   ]
  },
  {
   "cell_type": "code",
   "execution_count": null,
   "metadata": {
    "scrolled": true
   },
   "outputs": [],
   "source": [
    "start = time.process_time()\n",
    "# code here\n",
    "# time.sleep(1)\n",
    "\n",
    "print(time.process_time()- start)"
   ]
  },
  {
   "cell_type": "markdown",
   "metadata": {},
   "source": [
    "### Since Python 3.7, process_time_ns() returns the time in nanoseconds."
   ]
  },
  {
   "cell_type": "markdown",
   "metadata": {},
   "source": [
    "### Using timeit"
   ]
  },
  {
   "cell_type": "code",
   "execution_count": null,
   "metadata": {},
   "outputs": [],
   "source": [
    "import timeit\n",
    "\n",
    "stp = '''import random'''\n",
    "code = '''\n",
    "for i in range(10**6):\n",
    "    random.randint(1,10)\n",
    "\n",
    "'''\n",
    "timeit.timeit(setup=stp, stmt=code, number=3, globals=globals())"
   ]
  },
  {
   "cell_type": "markdown",
   "metadata": {},
   "source": [
    "### Using CProfile"
   ]
  },
  {
   "cell_type": "code",
   "execution_count": null,
   "metadata": {
    "scrolled": true
   },
   "outputs": [],
   "source": [
    "import cProfile\n",
    "# show from VS Code\n",
    "def add(a, b):\n",
    "    for _ in range(100000):\n",
    "        pass\n",
    "    return a + b\n",
    "\n",
    "prof = cProfile.Profile()\n",
    "prof.enable()\n",
    "for _ in range(5):\n",
    "    [add(i, i*2) for i in range(10)]\n",
    "prof.disable()\n",
    "prof.print_stats()"
   ]
  },
  {
   "cell_type": "markdown",
   "metadata": {},
   "source": [
    "## Comparing search speed in Lists and sets"
   ]
  },
  {
   "cell_type": "code",
   "execution_count": null,
   "metadata": {},
   "outputs": [],
   "source": [
    "from random import shuffle\n",
    "values = list(range(0,10**5))\n",
    "shuffle(values)"
   ]
  },
  {
   "cell_type": "code",
   "execution_count": null,
   "metadata": {},
   "outputs": [],
   "source": [
    "st_search = set(values * 2)\n",
    "\n",
    "print(len(st_search))\n",
    "start = time.process_time()\n",
    "print(456 in st_search)\n",
    "\n",
    "print(time.process_time()- start)"
   ]
  },
  {
   "cell_type": "code",
   "execution_count": null,
   "metadata": {
    "scrolled": true
   },
   "outputs": [],
   "source": [
    "ls_search = list(values * 2)\n",
    "print(len(ls_search))\n",
    "\n",
    "start = time.process_time()\n",
    "print(456 in ls_search)\n",
    "\n",
    "print(time.process_time()- start)"
   ]
  },
  {
   "cell_type": "markdown",
   "metadata": {},
   "source": [
    "## Reduce time taken by a function call inside the loop"
   ]
  },
  {
   "cell_type": "code",
   "execution_count": null,
   "metadata": {},
   "outputs": [],
   "source": [
    "import random\n",
    "\n",
    "start = time.process_time()\n",
    "for i in range(10**6):\n",
    "    random.randint(1, 5)\n",
    "print(time.process_time()- start)"
   ]
  },
  {
   "cell_type": "code",
   "execution_count": null,
   "metadata": {},
   "outputs": [],
   "source": [
    "r = random.randint\n",
    "start = time.process_time()\n",
    "for i in range(10**6):\n",
    "    r(1, 5)\n",
    "print(time.process_time()- start)"
   ]
  },
  {
   "cell_type": "markdown",
   "metadata": {},
   "source": [
    "## Generators"
   ]
  },
  {
   "cell_type": "code",
   "execution_count": null,
   "metadata": {},
   "outputs": [],
   "source": [
    "def even_numbers(x):\n",
    "    ls = []\n",
    "    for i in range(2, x+1, 2):\n",
    "        ls.append(i)\n",
    "    return ls\n",
    "\n",
    "even_numbers(12)"
   ]
  },
  {
   "cell_type": "code",
   "execution_count": null,
   "metadata": {},
   "outputs": [],
   "source": [
    "def even_numbers_gen(x):\n",
    "    for i in range(2, x+1, 2):\n",
    "        yield i\n",
    "        # print(i)\n",
    "        \n",
    "evens = even_numbers_gen(12)\n",
    "evens"
   ]
  },
  {
   "cell_type": "code",
   "execution_count": null,
   "metadata": {},
   "outputs": [],
   "source": [
    "for i in evens:\n",
    "    print(i, end=\"  \")"
   ]
  },
  {
   "cell_type": "code",
   "execution_count": null,
   "metadata": {
    "scrolled": true
   },
   "outputs": [],
   "source": [
    "next(evens)"
   ]
  },
  {
   "cell_type": "code",
   "execution_count": null,
   "metadata": {},
   "outputs": [],
   "source": [
    "gen_e = (i for i in range(1000))\n",
    "gen_e"
   ]
  },
  {
   "cell_type": "code",
   "execution_count": null,
   "metadata": {},
   "outputs": [],
   "source": [
    "import sys\n",
    "print(sys.getsizeof(gen_e),\"bytes\")"
   ]
  },
  {
   "cell_type": "code",
   "execution_count": null,
   "metadata": {},
   "outputs": [],
   "source": [
    "lst_e = [i for i in range(1000)]\n",
    "print(sys.getsizeof(lst_e),\"bytes\")"
   ]
  },
  {
   "cell_type": "markdown",
   "metadata": {},
   "source": [
    "### Function closures"
   ]
  },
  {
   "cell_type": "code",
   "execution_count": null,
   "metadata": {},
   "outputs": [],
   "source": [
    "def print_text(txt):\n",
    "    def helper():\n",
    "        return 'The text is {}'.format(txt)\n",
    "    return helper\n",
    "\n",
    "f = print_text('Testing')\n",
    "f()"
   ]
  },
  {
   "cell_type": "markdown",
   "metadata": {},
   "source": [
    "### Three conditions for a closure\n",
    " - Should be a nested function\n",
    " - Should use a value from the higher function\n",
    " - Should be returned by the higher function"
   ]
  },
  {
   "cell_type": "code",
   "execution_count": null,
   "metadata": {},
   "outputs": [],
   "source": [
    "def is_divisible(n):\n",
    "    def helper(x):\n",
    "        return x%n == 0\n",
    "    return helper\n",
    "\n",
    "divisible_by_2 = is_divisible(2)\n",
    "print(divisible_by_2(14))"
   ]
  },
  {
   "cell_type": "code",
   "execution_count": null,
   "metadata": {},
   "outputs": [],
   "source": [
    "divisble_by_3 = is_divisible(3)\n",
    "print(divisble_by_3(12))"
   ]
  },
  {
   "cell_type": "markdown",
   "metadata": {},
   "source": [
    "## Decorators"
   ]
  },
  {
   "cell_type": "code",
   "execution_count": null,
   "metadata": {},
   "outputs": [],
   "source": [
    "def demo():\n",
    "    print('Demo function')\n",
    "    \n",
    "    \n",
    "def my_deco(func):\n",
    "    \n",
    "    def wrapper():\n",
    "        print('my_deco is called on',func.__name__)\n",
    "        func()\n",
    "    \n",
    "    return wrapper\n",
    "\n",
    "deco_demo = my_deco(demo)\n",
    "deco_demo()"
   ]
  },
  {
   "cell_type": "code",
   "execution_count": null,
   "metadata": {},
   "outputs": [],
   "source": [
    "def my_deco(func):\n",
    "    \n",
    "    def wrapper():\n",
    "        print('My deco is called on',func.__name__)\n",
    "        func()\n",
    "    \n",
    "    return wrapper\n",
    "\n",
    "@my_deco\n",
    "def demo():\n",
    "    print('Demo function')\n",
    "\n",
    "demo()"
   ]
  },
  {
   "cell_type": "markdown",
   "metadata": {},
   "source": [
    "### Write a decorator to calculate time taken by a function"
   ]
  },
  {
   "cell_type": "markdown",
   "metadata": {},
   "source": [
    "## Memoization"
   ]
  },
  {
   "cell_type": "code",
   "execution_count": null,
   "metadata": {},
   "outputs": [],
   "source": [
    "from functools import lru_cache\n",
    "\n",
    "@lru_cache(maxsize = 256)\n",
    "def fibonacci(k):\n",
    "   if k==0:\n",
    "    return 0\n",
    "   if k==1:\n",
    "    return 1\n",
    "   else:\n",
    "    return fibonacci(k-1) + fibonacci(k-2)\n",
    "\n",
    "print(timeit.timeit('fibonacci(20)', globals = globals(), number = 1))\n",
    "\n",
    "print(timeit.timeit('fibonacci(15)', globals = globals(), number = 1))\n",
    "\n",
    "print(timeit.timeit('fibonacci(10)', globals = globals(), number = 1))\n",
    "\n",
    "print(timeit.timeit('fibonacci(300)', globals = globals(), number = 1))\n",
    "\n",
    "fibonacci.cache_info()"
   ]
  },
  {
   "cell_type": "markdown",
   "metadata": {},
   "source": [
    "### Write a memoized function for calculating the factorial of a number"
   ]
  },
  {
   "cell_type": "markdown",
   "metadata": {},
   "source": [
    "## Execption handling"
   ]
  },
  {
   "cell_type": "markdown",
   "metadata": {},
   "source": [
    "### try-except-else"
   ]
  },
  {
   "cell_type": "code",
   "execution_count": null,
   "metadata": {},
   "outputs": [],
   "source": [
    "try:\n",
    "    x = 5/0\n",
    "except:\n",
    "    print('In except')\n",
    "else:\n",
    "    print('In else')\n",
    "finally:\n",
    "    print('Finally will always run')"
   ]
  },
  {
   "cell_type": "code",
   "execution_count": null,
   "metadata": {},
   "outputs": [],
   "source": [
    "try:\n",
    "    x = 5/0\n",
    "    a  = int('h')\n",
    "    x = [0]\n",
    "    print(x[1])\n",
    "except ZeroDivisionError:\n",
    "    print(\"Division by 0 not possible\")\n",
    "except ValueError:\n",
    "    print(\"Cannot change a to int\")\n",
    "except:\n",
    "    print(\"Other exceptions\")"
   ]
  },
  {
   "cell_type": "code",
   "execution_count": null,
   "metadata": {},
   "outputs": [],
   "source": [
    "a = 'h'\n",
    "try:\n",
    "    x = 5/0\n",
    "except:\n",
    "    print('Zero Error')\n",
    "    try:\n",
    "        a = int(a)\n",
    "    except:\n",
    "        print('Value Error')"
   ]
  },
  {
   "cell_type": "markdown",
   "metadata": {},
   "source": [
    "### raise"
   ]
  },
  {
   "cell_type": "code",
   "execution_count": null,
   "metadata": {},
   "outputs": [],
   "source": [
    "raise ValueError('This is a raised error')"
   ]
  },
  {
   "cell_type": "markdown",
   "metadata": {},
   "source": [
    "### assert"
   ]
  },
  {
   "cell_type": "code",
   "execution_count": null,
   "metadata": {},
   "outputs": [],
   "source": [
    "assert 1==1, 'Wrong assertion'\n",
    "print('No AssertionError')"
   ]
  },
  {
   "cell_type": "code",
   "execution_count": null,
   "metadata": {},
   "outputs": [],
   "source": [
    "assert 1!=1, 'Wrong assertion'\n",
    "print('No AssertionError')"
   ]
  },
  {
   "cell_type": "markdown",
   "metadata": {},
   "source": [
    "### Some exceptions in Python\n",
    "- ValueError\n",
    "- NameError\n",
    "- AssertionError\n",
    "- SyntaxError\n",
    "- IndentationError\n",
    "- ZeroDivisionError\n",
    "##### and many more"
   ]
  }
 ],
 "metadata": {
  "kernelspec": {
   "display_name": "Python 3",
   "language": "python",
   "name": "python3"
  },
  "language_info": {
   "codemirror_mode": {
    "name": "ipython",
    "version": 3
   },
   "file_extension": ".py",
   "mimetype": "text/x-python",
   "name": "python",
   "nbconvert_exporter": "python",
   "pygments_lexer": "ipython3",
   "version": "3.6.8"
  }
 },
 "nbformat": 4,
 "nbformat_minor": 2
}
